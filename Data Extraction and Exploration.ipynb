{
 "cells": [
  {
   "cell_type": "code",
   "execution_count": 2,
   "metadata": {},
   "outputs": [
    {
     "name": "stdout",
     "output_type": "stream",
     "text": [
      "[nltk_data] Downloading package punkt to /Users/jayadeep/nltk_data...\n",
      "[nltk_data]   Package punkt is already up-to-date!\n",
      "[nltk_data] Downloading package stopwords to\n",
      "[nltk_data]     /Users/jayadeep/nltk_data...\n",
      "[nltk_data]   Package stopwords is already up-to-date!\n"
     ]
    }
   ],
   "source": [
    "import numpy as np\n",
    "import urllib.request\n",
    "import feedparser\n",
    "import pandas as pd\n",
    "import nltk, string\n",
    "from sklearn.feature_extraction.text import TfidfVectorizer\n",
    "from nltk import word_tokenize\n",
    "from nltk import download\n",
    "from nltk.corpus import stopwords\n",
    "import matplotlib.pyplot as plt\n",
    "               \n",
    "download('punkt')\n",
    "download('stopwords')\n",
    "               \n",
    "stop_words = stopwords.words('english')\n",
    "\n",
    "%matplotlib inline"
   ]
  },
  {
   "cell_type": "code",
   "execution_count": 3,
   "metadata": {},
   "outputs": [],
   "source": [
    "pd.set_option('display.max_columns', None)  # or 1000\n",
    "pd.set_option('display.max_rows', None)  # or 1000\n",
    "pd.set_option('display.max_colwidth', -1)  # or 199"
   ]
  },
  {
   "cell_type": "markdown",
   "metadata": {},
   "source": [
    "## Part I: Data Extraction"
   ]
  },
  {
   "cell_type": "code",
   "execution_count": 4,
   "metadata": {},
   "outputs": [],
   "source": [
    "search_term = \"machine+learning\"\n",
    "max_results = 1000"
   ]
  },
  {
   "cell_type": "code",
   "execution_count": 5,
   "metadata": {},
   "outputs": [],
   "source": [
    "url = \"http://export.arxiv.org/api/query?search_query=all:\"+search_term+\"&start=0&max_results=\"+str(max_results)"
   ]
  },
  {
   "cell_type": "code",
   "execution_count": 6,
   "metadata": {},
   "outputs": [],
   "source": [
    "data = urllib.request.urlopen(url).read()\n",
    "# print(data)\n",
    "d = feedparser.parse(data)"
   ]
  },
  {
   "cell_type": "code",
   "execution_count": 7,
   "metadata": {
    "scrolled": false
   },
   "outputs": [
    {
     "data": {
      "text/plain": [
       "{'links': [{'href': 'http://arxiv.org/api/query?search_query%3Dall%3Amachine%20learning%26id_list%3D%26start%3D0%26max_results%3D1000',\n",
       "   'rel': 'self',\n",
       "   'type': 'application/atom+xml'}],\n",
       " 'title': 'ArXiv Query: search_query=all:machine learning&id_list=&start=0&max_results=1000',\n",
       " 'title_detail': {'type': 'text/html',\n",
       "  'language': None,\n",
       "  'base': '',\n",
       "  'value': 'ArXiv Query: search_query=all:machine learning&id_list=&start=0&max_results=1000'},\n",
       " 'id': 'http://arxiv.org/api/cJ94CoIB99FKowsEQVatCUfLlTs',\n",
       " 'guidislink': True,\n",
       " 'link': 'http://arxiv.org/api/cJ94CoIB99FKowsEQVatCUfLlTs',\n",
       " 'updated': '2019-04-13T00:00:00-04:00',\n",
       " 'updated_parsed': time.struct_time(tm_year=2019, tm_mon=4, tm_mday=13, tm_hour=4, tm_min=0, tm_sec=0, tm_wday=5, tm_yday=103, tm_isdst=0),\n",
       " 'opensearch_totalresults': '77475',\n",
       " 'opensearch_startindex': '0',\n",
       " 'opensearch_itemsperpage': '1000'}"
      ]
     },
     "execution_count": 7,
     "metadata": {},
     "output_type": "execute_result"
    }
   ],
   "source": [
    "d['feed']"
   ]
  },
  {
   "cell_type": "code",
   "execution_count": 8,
   "metadata": {},
   "outputs": [
    {
     "data": {
      "text/plain": [
       "1000"
      ]
     },
     "execution_count": 8,
     "metadata": {},
     "output_type": "execute_result"
    }
   ],
   "source": [
    "len(d['entries'])"
   ]
  },
  {
   "cell_type": "code",
   "execution_count": 9,
   "metadata": {},
   "outputs": [
    {
     "data": {
      "text/plain": [
       "'An Optimal Control View of Adversarial Machine Learning'"
      ]
     },
     "execution_count": 9,
     "metadata": {},
     "output_type": "execute_result"
    }
   ],
   "source": [
    "d['entries'][0]['title']"
   ]
  },
  {
   "cell_type": "code",
   "execution_count": 10,
   "metadata": {},
   "outputs": [
    {
     "data": {
      "text/plain": [
       "\"I describe an optimal control view of adversarial machine learning, where the\\ndynamical system is the machine learner, the input are adversarial actions, and\\nthe control costs are defined by the adversary's goals to do harm and be hard\\nto detect. This view encompasses many types of adversarial machine learning,\\nincluding test-item attacks, training-data poisoning, and adversarial reward\\nshaping. The view encourages adversarial machine learning researcher to utilize\\nadvances in control theory and reinforcement learning.\""
      ]
     },
     "execution_count": 10,
     "metadata": {},
     "output_type": "execute_result"
    }
   ],
   "source": [
    "d['entries'][0]['summary']"
   ]
  },
  {
   "cell_type": "code",
   "execution_count": 11,
   "metadata": {},
   "outputs": [],
   "source": [
    "df = pd.DataFrame(d['entries'], columns=['title', 'summary'])"
   ]
  },
  {
   "cell_type": "markdown",
   "metadata": {},
   "source": [
    "## Part II: Preprocess data"
   ]
  },
  {
   "cell_type": "code",
   "execution_count": 13,
   "metadata": {},
   "outputs": [],
   "source": [
    "stemmer = nltk.stem.porter.PorterStemmer()\n",
    "remove_punctuation_map = dict((ord(char), \" \") for char in string.punctuation)\n",
    "\n",
    "def stem_tokens(tokens):\n",
    "    return [stemmer.stem(item) for item in tokens if item not in stop_words]\n",
    "\n",
    "'''remove punctuation, lowercase, remove stopwords, stem'''\n",
    "def normalize(text):\n",
    "    return stem_tokens(nltk.word_tokenize(text.lower().translate(remove_punctuation_map)))"
   ]
  },
  {
   "cell_type": "code",
   "execution_count": 85,
   "metadata": {},
   "outputs": [],
   "source": [
    "df['title_proc'] = df['title'].apply(lambda x: normalize(x))\n",
    "df['summary_proc'] = df['summary'].apply(lambda x: normalize(x))"
   ]
  },
  {
   "cell_type": "code",
   "execution_count": 15,
   "metadata": {},
   "outputs": [
    {
     "data": {
      "text/html": [
       "<div>\n",
       "<style scoped>\n",
       "    .dataframe tbody tr th:only-of-type {\n",
       "        vertical-align: middle;\n",
       "    }\n",
       "\n",
       "    .dataframe tbody tr th {\n",
       "        vertical-align: top;\n",
       "    }\n",
       "\n",
       "    .dataframe thead th {\n",
       "        text-align: right;\n",
       "    }\n",
       "</style>\n",
       "<table border=\"1\" class=\"dataframe\">\n",
       "  <thead>\n",
       "    <tr style=\"text-align: right;\">\n",
       "      <th></th>\n",
       "      <th>title</th>\n",
       "      <th>title_proc</th>\n",
       "    </tr>\n",
       "  </thead>\n",
       "  <tbody>\n",
       "    <tr>\n",
       "      <th>0</th>\n",
       "      <td>An Optimal Control View of Adversarial Machine Learning</td>\n",
       "      <td>[optim, control, view, adversari, machin, learn]</td>\n",
       "    </tr>\n",
       "    <tr>\n",
       "      <th>1</th>\n",
       "      <td>Minimax deviation strategies for machine learning and recognition with\\n  short learning samples</td>\n",
       "      <td>[minimax, deviat, strategi, machin, learn, recognit, short, learn, sampl]</td>\n",
       "    </tr>\n",
       "    <tr>\n",
       "      <th>2</th>\n",
       "      <td>Introduction to Machine Learning: Class Notes 67577</td>\n",
       "      <td>[introduct, machin, learn, class, note, 67577]</td>\n",
       "    </tr>\n",
       "    <tr>\n",
       "      <th>3</th>\n",
       "      <td>A Unified Analytical Framework for Trustable Machine Learning and\\n  Automation Running with Blockchain</td>\n",
       "      <td>[unifi, analyt, framework, trustabl, machin, learn, autom, run, blockchain]</td>\n",
       "    </tr>\n",
       "    <tr>\n",
       "      <th>4</th>\n",
       "      <td>MLBench: How Good Are Machine Learning Clouds for Binary Classification\\n  Tasks on Structured Data?</td>\n",
       "      <td>[mlbench, good, machin, learn, cloud, binari, classif, task, structur, data]</td>\n",
       "    </tr>\n",
       "    <tr>\n",
       "      <th>5</th>\n",
       "      <td>AutoCompete: A Framework for Machine Learning Competition</td>\n",
       "      <td>[autocompet, framework, machin, learn, competit]</td>\n",
       "    </tr>\n",
       "    <tr>\n",
       "      <th>6</th>\n",
       "      <td>Proceedings of the 2016 ICML Workshop on #Data4Good: Machine Learning in\\n  Social Good Applications</td>\n",
       "      <td>[proceed, 2016, icml, workshop, data4good, machin, learn, social, good, applic]</td>\n",
       "    </tr>\n",
       "    <tr>\n",
       "      <th>7</th>\n",
       "      <td>Joint Training of Deep Boltzmann Machines</td>\n",
       "      <td>[joint, train, deep, boltzmann, machin]</td>\n",
       "    </tr>\n",
       "    <tr>\n",
       "      <th>8</th>\n",
       "      <td>A Primer on PAC-Bayesian Learning</td>\n",
       "      <td>[primer, pac, bayesian, learn]</td>\n",
       "    </tr>\n",
       "    <tr>\n",
       "      <th>9</th>\n",
       "      <td>Temporal-related Convolutional-Restricted-Boltzmann-Machine capable of\\n  learning relational order via reinforcement learning procedure?</td>\n",
       "      <td>[tempor, relat, convolut, restrict, boltzmann, machin, capabl, learn, relat, order, via, reinforc, learn, procedur]</td>\n",
       "    </tr>\n",
       "    <tr>\n",
       "      <th>10</th>\n",
       "      <td>Proceedings of the 29th International Conference on Machine Learning\\n  (ICML-12)</td>\n",
       "      <td>[proceed, 29th, intern, confer, machin, learn, icml, 12]</td>\n",
       "    </tr>\n",
       "  </tbody>\n",
       "</table>\n",
       "</div>"
      ],
      "text/plain": [
       "                                                                                                                                        title  \\\n",
       "0   An Optimal Control View of Adversarial Machine Learning                                                                                     \n",
       "1   Minimax deviation strategies for machine learning and recognition with\\n  short learning samples                                            \n",
       "2   Introduction to Machine Learning: Class Notes 67577                                                                                         \n",
       "3   A Unified Analytical Framework for Trustable Machine Learning and\\n  Automation Running with Blockchain                                     \n",
       "4   MLBench: How Good Are Machine Learning Clouds for Binary Classification\\n  Tasks on Structured Data?                                        \n",
       "5   AutoCompete: A Framework for Machine Learning Competition                                                                                   \n",
       "6   Proceedings of the 2016 ICML Workshop on #Data4Good: Machine Learning in\\n  Social Good Applications                                        \n",
       "7   Joint Training of Deep Boltzmann Machines                                                                                                   \n",
       "8   A Primer on PAC-Bayesian Learning                                                                                                           \n",
       "9   Temporal-related Convolutional-Restricted-Boltzmann-Machine capable of\\n  learning relational order via reinforcement learning procedure?   \n",
       "10  Proceedings of the 29th International Conference on Machine Learning\\n  (ICML-12)                                                           \n",
       "\n",
       "                                                                                                             title_proc  \n",
       "0   [optim, control, view, adversari, machin, learn]                                                                     \n",
       "1   [minimax, deviat, strategi, machin, learn, recognit, short, learn, sampl]                                            \n",
       "2   [introduct, machin, learn, class, note, 67577]                                                                       \n",
       "3   [unifi, analyt, framework, trustabl, machin, learn, autom, run, blockchain]                                          \n",
       "4   [mlbench, good, machin, learn, cloud, binari, classif, task, structur, data]                                         \n",
       "5   [autocompet, framework, machin, learn, competit]                                                                     \n",
       "6   [proceed, 2016, icml, workshop, data4good, machin, learn, social, good, applic]                                      \n",
       "7   [joint, train, deep, boltzmann, machin]                                                                              \n",
       "8   [primer, pac, bayesian, learn]                                                                                       \n",
       "9   [tempor, relat, convolut, restrict, boltzmann, machin, capabl, learn, relat, order, via, reinforc, learn, procedur]  \n",
       "10  [proceed, 29th, intern, confer, machin, learn, icml, 12]                                                             "
      ]
     },
     "execution_count": 15,
     "metadata": {},
     "output_type": "execute_result"
    }
   ],
   "source": [
    "df.loc[:10, ['title', 'title_proc']]"
   ]
  },
  {
   "cell_type": "code",
   "execution_count": 89,
   "metadata": {},
   "outputs": [
    {
     "data": {
      "text/html": [
       "<div>\n",
       "<style scoped>\n",
       "    .dataframe tbody tr th:only-of-type {\n",
       "        vertical-align: middle;\n",
       "    }\n",
       "\n",
       "    .dataframe tbody tr th {\n",
       "        vertical-align: top;\n",
       "    }\n",
       "\n",
       "    .dataframe thead th {\n",
       "        text-align: right;\n",
       "    }\n",
       "</style>\n",
       "<table border=\"1\" class=\"dataframe\">\n",
       "  <thead>\n",
       "    <tr style=\"text-align: right;\">\n",
       "      <th></th>\n",
       "      <th>summary</th>\n",
       "      <th>summary_proc</th>\n",
       "    </tr>\n",
       "  </thead>\n",
       "  <tbody>\n",
       "    <tr>\n",
       "      <th>0</th>\n",
       "      <td>I describe an optimal control view of adversarial machine learning, where the\\ndynamical system is the machine learner, the input are adversarial actions, and\\nthe control costs are defined by the adversary's goals to do harm and be hard\\nto detect. This view encompasses many types of adversarial machine learning,\\nincluding test-item attacks, training-data poisoning, and adversarial reward\\nshaping. The view encourages adversarial machine learning researcher to utilize\\nadvances in control theory and reinforcement learning.</td>\n",
       "      <td>[describ, optim, control, view, adversari, machin, learn, dynam, system, machin, learner, input, adversari, action, control, cost, defin, adversari, goal, harm, hard, detect, view, encompass, mani, type, adversari, machin, learn, includ, test, item, attack, train, data, poison, adversari, reward, shape, view, encourag, adversari, machin, learn, research, util, advanc, control, theori, reinforc, learn]</td>\n",
       "    </tr>\n",
       "    <tr>\n",
       "      <th>1</th>\n",
       "      <td>The article is devoted to the problem of small learning samples in machine\\nlearning. The flaws of maximum likelihood learning and minimax learning are\\nlooked into and the concept of minimax deviation learning is introduced that is\\nfree of those flaws.</td>\n",
       "      <td>[articl, devot, problem, small, learn, sampl, machin, learn, flaw, maximum, likelihood, learn, minimax, learn, look, concept, minimax, deviat, learn, introduc, free, flaw]</td>\n",
       "    </tr>\n",
       "    <tr>\n",
       "      <th>2</th>\n",
       "      <td>Introduction to Machine learning covering Statistical Inference (Bayes, EM,\\nML/MaxEnt duality), algebraic and spectral methods (PCA, LDA, CCA, Clustering),\\nand PAC learning (the Formal model, VC dimension, Double Sampling theorem).</td>\n",
       "      <td>[introduct, machin, learn, cover, statist, infer, bay, em, ml, maxent, dualiti, algebra, spectral, method, pca, lda, cca, cluster, pac, learn, formal, model, vc, dimens, doubl, sampl, theorem]</td>\n",
       "    </tr>\n",
       "    <tr>\n",
       "      <th>3</th>\n",
       "      <td>Traditional machine learning algorithms use data from databases that are\\nmutable, and therefore the data cannot be fully trusted. Also, the machine\\nlearning process is difficult to automate. This paper proposes building a\\ntrustable machine learning system by using blockchain technology, which can\\nstore data in a permanent and immutable way. In addition, smart contracts are\\nused to automate the machine learning process. This paper makes three\\ncontributions. First, it establishes a link between machine learning technology\\nand blockchain technology. Previously, machine learning and blockchain have\\nbeen considered two independent technologies without an obvious link. Second,\\nit proposes a unified analytical framework for trustable machine learning by\\nusing blockchain technology. This unified framework solves both the\\ntrustability and automation issues in machine learning. Third, it enables a\\ncomputer to translate core machine learning implementation from a single thread\\non a single machine to multiple threads on multiple machines running with\\nblockchain by using a unified approach. The paper uses association rule mining\\nas an example to demonstrate how trustable machine learning can be implemented\\nwith blockchain, and it shows how this approach can be used to analyze opioid\\nprescriptions to help combat the opioid crisis.</td>\n",
       "      <td>[tradit, machin, learn, algorithm, use, data, databas, mutabl, therefor, data, fulli, trust, also, machin, learn, process, difficult, autom, paper, propos, build, trustabl, machin, learn, system, use, blockchain, technolog, store, data, perman, immut, way, addit, smart, contract, use, autom, machin, learn, process, paper, make, three, contribut, first, establish, link, machin, learn, technolog, blockchain, technolog, previous, machin, learn, blockchain, consid, two, independ, technolog, without, obviou, link, second, propos, unifi, analyt, framework, trustabl, machin, learn, use, blockchain, technolog, unifi, framework, solv, trustabl, autom, issu, machin, learn, third, enabl, comput, translat, core, machin, learn, implement, singl, thread, singl, machin, multipl, thread, multipl, machin, run, ...]</td>\n",
       "    </tr>\n",
       "  </tbody>\n",
       "</table>\n",
       "</div>"
      ],
      "text/plain": [
       "                                                                                                                                                                                                                                                                                                                                                                                                                                                                                                                                                                                                                                                                                                                                                                                                                                                                                                                                                                                                                                                                                                                                                                                                                                                                                                                                                                                                       summary  \\\n",
       "0  I describe an optimal control view of adversarial machine learning, where the\\ndynamical system is the machine learner, the input are adversarial actions, and\\nthe control costs are defined by the adversary's goals to do harm and be hard\\nto detect. This view encompasses many types of adversarial machine learning,\\nincluding test-item attacks, training-data poisoning, and adversarial reward\\nshaping. The view encourages adversarial machine learning researcher to utilize\\nadvances in control theory and reinforcement learning.                                                                                                                                                                                                                                                                                                                                                                                                                                                                                                                                                                                                                                                                                                                                                                                                                                                            \n",
       "1  The article is devoted to the problem of small learning samples in machine\\nlearning. The flaws of maximum likelihood learning and minimax learning are\\nlooked into and the concept of minimax deviation learning is introduced that is\\nfree of those flaws.                                                                                                                                                                                                                                                                                                                                                                                                                                                                                                                                                                                                                                                                                                                                                                                                                                                                                                                                                                                                                                                                                                                                                \n",
       "2  Introduction to Machine learning covering Statistical Inference (Bayes, EM,\\nML/MaxEnt duality), algebraic and spectral methods (PCA, LDA, CCA, Clustering),\\nand PAC learning (the Formal model, VC dimension, Double Sampling theorem).                                                                                                                                                                                                                                                                                                                                                                                                                                                                                                                                                                                                                                                                                                                                                                                                                                                                                                                                                                                                                                                                                                                                                                     \n",
       "3  Traditional machine learning algorithms use data from databases that are\\nmutable, and therefore the data cannot be fully trusted. Also, the machine\\nlearning process is difficult to automate. This paper proposes building a\\ntrustable machine learning system by using blockchain technology, which can\\nstore data in a permanent and immutable way. In addition, smart contracts are\\nused to automate the machine learning process. This paper makes three\\ncontributions. First, it establishes a link between machine learning technology\\nand blockchain technology. Previously, machine learning and blockchain have\\nbeen considered two independent technologies without an obvious link. Second,\\nit proposes a unified analytical framework for trustable machine learning by\\nusing blockchain technology. This unified framework solves both the\\ntrustability and automation issues in machine learning. Third, it enables a\\ncomputer to translate core machine learning implementation from a single thread\\non a single machine to multiple threads on multiple machines running with\\nblockchain by using a unified approach. The paper uses association rule mining\\nas an example to demonstrate how trustable machine learning can be implemented\\nwith blockchain, and it shows how this approach can be used to analyze opioid\\nprescriptions to help combat the opioid crisis.   \n",
       "\n",
       "                                                                                                                                                                                                                                                                                                                                                                                                                                                                                                                                                                                                                                                                                                                                                                                                                                summary_proc  \n",
       "0  [describ, optim, control, view, adversari, machin, learn, dynam, system, machin, learner, input, adversari, action, control, cost, defin, adversari, goal, harm, hard, detect, view, encompass, mani, type, adversari, machin, learn, includ, test, item, attack, train, data, poison, adversari, reward, shape, view, encourag, adversari, machin, learn, research, util, advanc, control, theori, reinforc, learn]                                                                                                                                                                                                                                                                                                                                                                                                                       \n",
       "1  [articl, devot, problem, small, learn, sampl, machin, learn, flaw, maximum, likelihood, learn, minimax, learn, look, concept, minimax, deviat, learn, introduc, free, flaw]                                                                                                                                                                                                                                                                                                                                                                                                                                                                                                                                                                                                                                                                \n",
       "2  [introduct, machin, learn, cover, statist, infer, bay, em, ml, maxent, dualiti, algebra, spectral, method, pca, lda, cca, cluster, pac, learn, formal, model, vc, dimens, doubl, sampl, theorem]                                                                                                                                                                                                                                                                                                                                                                                                                                                                                                                                                                                                                                           \n",
       "3  [tradit, machin, learn, algorithm, use, data, databas, mutabl, therefor, data, fulli, trust, also, machin, learn, process, difficult, autom, paper, propos, build, trustabl, machin, learn, system, use, blockchain, technolog, store, data, perman, immut, way, addit, smart, contract, use, autom, machin, learn, process, paper, make, three, contribut, first, establish, link, machin, learn, technolog, blockchain, technolog, previous, machin, learn, blockchain, consid, two, independ, technolog, without, obviou, link, second, propos, unifi, analyt, framework, trustabl, machin, learn, use, blockchain, technolog, unifi, framework, solv, trustabl, autom, issu, machin, learn, third, enabl, comput, translat, core, machin, learn, implement, singl, thread, singl, machin, multipl, thread, multipl, machin, run, ...]  "
      ]
     },
     "execution_count": 89,
     "metadata": {},
     "output_type": "execute_result"
    }
   ],
   "source": [
    "df.loc[:3, ['summary', 'summary_proc']]"
   ]
  },
  {
   "cell_type": "markdown",
   "metadata": {},
   "source": [
    "## Part III: compute similarities"
   ]
  },
  {
   "cell_type": "markdown",
   "metadata": {},
   "source": [
    "### First method: Latent Semantic Indexing"
   ]
  },
  {
   "cell_type": "code",
   "execution_count": 90,
   "metadata": {},
   "outputs": [],
   "source": [
    "from gensim import corpora, models, similarities, matutils\n",
    "from gensim.models import TfidfModel\n",
    "from gensim.models import LsiModel\n",
    "from gensim.similarities import MatrixSimilarity\n",
    "import itertools"
   ]
  },
  {
   "cell_type": "markdown",
   "metadata": {},
   "source": [
    "#### 1. Creating the dictionary"
   ]
  },
  {
   "cell_type": "code",
   "execution_count": 92,
   "metadata": {},
   "outputs": [
    {
     "data": {
      "text/plain": [
       "[('action', 0),\n",
       " ('advanc', 1),\n",
       " ('adversari', 2),\n",
       " ('attack', 3),\n",
       " ('control', 4),\n",
       " ('cost', 5),\n",
       " ('data', 6),\n",
       " ('defin', 7),\n",
       " ('describ', 8),\n",
       " ('detect', 9)]"
      ]
     },
     "execution_count": 92,
     "metadata": {},
     "output_type": "execute_result"
    }
   ],
   "source": [
    "dictionary = corpora.Dictionary(df['summary_proc'])\n",
    "list(itertools.islice(dictionary.token2id.items(), 0, 10))"
   ]
  },
  {
   "cell_type": "markdown",
   "metadata": {},
   "source": [
    "#### 2. Creating the corpus"
   ]
  },
  {
   "cell_type": "code",
   "execution_count": 93,
   "metadata": {},
   "outputs": [
    {
     "name": "stdout",
     "output_type": "stream",
     "text": [
      "[(6, 3), (19, 10), (21, 12), (29, 1), (73, 1), (74, 1), (75, 1), (76, 1), (77, 1), (78, 2), (79, 1), (80, 3), (81, 6), (82, 1), (83, 1), (84, 1), (85, 1), (86, 1), (87, 1), (88, 1)]\n"
     ]
    }
   ],
   "source": [
    "corpus_gensim = [dictionary.doc2bow(doc) for doc in df['summary_proc']]\n",
    "print(corpus_gensim[3][:20])"
   ]
  },
  {
   "cell_type": "code",
   "execution_count": 94,
   "metadata": {},
   "outputs": [
    {
     "data": {
      "text/plain": [
       "'data'"
      ]
     },
     "execution_count": 94,
     "metadata": {},
     "output_type": "execute_result"
    }
   ],
   "source": [
    "dictionary[6]"
   ]
  },
  {
   "cell_type": "code",
   "execution_count": 102,
   "metadata": {},
   "outputs": [
    {
     "data": {
      "text/plain": [
       "3"
      ]
     },
     "execution_count": 102,
     "metadata": {},
     "output_type": "execute_result"
    }
   ],
   "source": [
    "np.sum(np.array(df.loc[3, 'summary_proc']) == 'data')"
   ]
  },
  {
   "cell_type": "markdown",
   "metadata": {},
   "source": [
    "#### 3. Creating the tf-idf transformation"
   ]
  },
  {
   "cell_type": "code",
   "execution_count": 103,
   "metadata": {},
   "outputs": [],
   "source": [
    "tfidf = TfidfModel(corpus_gensim)\n",
    "corpus_tfidf = tfidf[corpus_gensim]"
   ]
  },
  {
   "cell_type": "code",
   "execution_count": 104,
   "metadata": {},
   "outputs": [
    {
     "name": "stdout",
     "output_type": "stream",
     "text": [
      "[(6, 0.03760992074903925), (19, 0.006444880957719298), (21, 0.05730151180186316), (29, 0.02873624342577056), (73, 0.04244142355528707), (74, 0.013771255346576328), (75, 0.02556810144947738), (76, 0.05823916550021682), (77, 0.04389979191506502), (78, 0.0398580586042844), (79, 0.05644995873929763), (80, 0.149031229556138), (81, 0.588688669388792), (82, 0.04468281681442817), (83, 0.10905802369849178), (84, 0.02509678985386338), (85, 0.038733831051686235), (86, 0.0836485945993543), (87, 0.05484303738209147), (88, 0.060257368852324765)]\n"
     ]
    }
   ],
   "source": [
    "print(corpus_tfidf[3][:20])"
   ]
  },
  {
   "cell_type": "markdown",
   "metadata": {},
   "source": [
    "#### 4. Choice of the number of topics"
   ]
  },
  {
   "cell_type": "markdown",
   "metadata": {},
   "source": [
    "LSA seeks to identify a set of topics related to the research papers. The number of these topics N is equal to the dimension of the approximation matrix resulting from the SVD dimension reduction technique. This number is a hyper-parameter to be carefully adjusted. It results from the selection of the N largest singular values of the tf-idf corpus matrix. These singular values can be calculated as follows:"
   ]
  },
  {
   "cell_type": "code",
   "execution_count": 105,
   "metadata": {},
   "outputs": [
    {
     "data": {
      "text/plain": [
       "4780"
      ]
     },
     "execution_count": 105,
     "metadata": {},
     "output_type": "execute_result"
    }
   ],
   "source": [
    "len(dictionary)"
   ]
  },
  {
   "cell_type": "code",
   "execution_count": 106,
   "metadata": {},
   "outputs": [],
   "source": [
    "numpy_matrix = matutils.corpus2dense(corpus_gensim, num_terms=4780)\n",
    "s = np.linalg.svd(numpy_matrix, full_matrices=False, compute_uv=False)"
   ]
  },
  {
   "cell_type": "markdown",
   "metadata": {},
   "source": [
    "A histogram of the singular values of the tf-idf corpus matrix is presented in the following figure."
   ]
  },
  {
   "cell_type": "code",
   "execution_count": 107,
   "metadata": {},
   "outputs": [
    {
     "data": {
      "image/png": "[encoded data removed]",
      "text/plain": [
       "<Figure size 720x360 with 1 Axes>"
      ]
     },
     "metadata": {
      "needs_background": "light"
     },
     "output_type": "display_data"
    }
   ],
   "source": [
    "plt.figure(figsize=(10,5))\n",
    "plt.hist(s, bins=100)\n",
    "plt.xlabel('Singular values', fontsize=12)\n",
    "plt.show()"
   ]
  },
  {
   "cell_type": "markdown",
   "metadata": {},
   "source": [
    "#### 5. Creating the LSA model"
   ]
  },
  {
   "cell_type": "markdown",
   "metadata": {},
   "source": [
    "The \"LsiModel\" function transforms our tf-idf corpus into a latent 30-dimensional space (number of topics = 30)."
   ]
  },
  {
   "cell_type": "code",
   "execution_count": 108,
   "metadata": {},
   "outputs": [],
   "source": [
    "lsi = LsiModel(corpus_tfidf, id2word=dictionary, num_topics=100)"
   ]
  },
  {
   "cell_type": "markdown",
   "metadata": {},
   "source": [
    "transform corpus to LSI space and index it"
   ]
  },
  {
   "cell_type": "code",
   "execution_count": 109,
   "metadata": {},
   "outputs": [],
   "source": [
    "lsi_index = MatrixSimilarity(lsi[corpus_tfidf])"
   ]
  },
  {
   "cell_type": "markdown",
   "metadata": {},
   "source": [
    "#### 6. Performing queries"
   ]
  },
  {
   "cell_type": "code",
   "execution_count": 174,
   "metadata": {},
   "outputs": [
    {
     "name": "stdout",
     "output_type": "stream",
     "text": [
      "Title: Probabilistic Matrix Factorization for Automated Machine Learning\n",
      "Summary (query):\n",
      " In order to achieve state-of-the-art performance, modern machine learning\n",
      "techniques require careful data pre-processing and hyperparameter tuning.\n",
      "Moreover, given the ever increasing number of machine learning models being\n",
      "developed, model selection is becoming increasingly important. Automating the\n",
      "selection and tuning of machine learning pipelines consisting of data\n",
      "pre-processing methods and machine learning models, has long been one of the\n",
      "goals of the machine learning community. In this paper, we tackle this\n",
      "meta-learning task by combining ideas from collaborative filtering and Bayesian\n",
      "optimization. Using probabilistic matrix factorization techniques and\n",
      "acquisition functions from Bayesian optimization, we exploit experiments\n",
      "performed in hundreds of different datasets to guide the exploration of the\n",
      "space of possible pipelines. In our experiments, we show that our approach\n",
      "quickly identifies high-performing pipelines across a wide range of datasets,\n",
      "significantly outperforming the current state-of-the-art.\n"
     ]
    }
   ],
   "source": [
    "ind = 231\n",
    "query = df.loc[ind,'summary']\n",
    "print(\"Title:\", df.loc[ind, 'title'])\n",
    "print('Summary (query):\\n', query)"
   ]
  },
  {
   "cell_type": "code",
   "execution_count": 175,
   "metadata": {},
   "outputs": [
    {
     "name": "stdout",
     "output_type": "stream",
     "text": [
      "[(0, 4.995613522153284), (1, 0.1829264382072413), (2, 0.021034898063821347), (3, 0.9066609829769622), (4, -0.12905670338915354), (5, -0.010944198466460766), (6, 2.4831105809496443), (7, 0.36727352437158334), (8, -0.07474665571769505), (9, 1.2207189460025565)]\n"
     ]
    }
   ],
   "source": [
    "vec_bow = dictionary.doc2bow(normalize(query))\n",
    "vec_lsi = lsi[vec_bow]  # convert the query to LSI space\n",
    "print(vec_lsi[:10])"
   ]
  },
  {
   "cell_type": "markdown",
   "metadata": {},
   "source": [
    "To obtain similarities of our query document against the nine indexed documents:"
   ]
  },
  {
   "cell_type": "code",
   "execution_count": 176,
   "metadata": {},
   "outputs": [
    {
     "name": "stdout",
     "output_type": "stream",
     "text": [
      "[(0, 0.09011151), (1, 0.06725474), (2, 0.061150942), (3, 0.2757017), (4, 0.24603274), (5, 0.4109326), (6, 0.014472662), (7, 0.1596373), (8, 0.19599408), (9, 0.15042636)]\n"
     ]
    }
   ],
   "source": [
    "sims = lsi_index[vec_lsi]  # perform a similarity query against the corpus\n",
    "print(list(enumerate(sims))[:10])  # print (document_number, document_similarity) 2-tuples"
   ]
  },
  {
   "cell_type": "code",
   "execution_count": 172,
   "metadata": {},
   "outputs": [
    {
     "name": "stdout",
     "output_type": "stream",
     "text": [
      "[(189, 0.9593725), (469, 0.5058179), (38, 0.49048483), (232, 0.48997682), (370, 0.48388204), (163, 0.4835888), (544, 0.4776815), (521, 0.47179198), (604, 0.4696668), (19, 0.465696)]\n"
     ]
    }
   ],
   "source": [
    "sims = sorted(enumerate(sims), key=lambda item: -item[1])\n",
    "print(sims[:10])  # print sorted (document number, similarity score) 2-tuples"
   ]
  },
  {
   "cell_type": "code",
   "execution_count": 173,
   "metadata": {},
   "outputs": [
    {
     "name": "stdout",
     "output_type": "stream",
     "text": [
      "Training Humans and Machines\n",
      "189 For many years, researchers in psychology, education, statistics, and machine\n",
      "learning have been developing practical methods to improve learning speed,\n",
      "retention, and generalizability, and this work has been successful. Many of\n",
      "these methods are rooted in common underlying principles that seem to drive\n",
      "learning and overlearning in both humans and machines. I present a review of a\n",
      "small part of this work to point to potentially novel applications in both\n",
      "machine and human learning that may be worth exploring. 0.9593725\n",
      "\n",
      "\n",
      "Using Human Brain Activity to Guide Machine Learning\n",
      "469 Machine learning is a field of computer science that builds algorithms that\n",
      "learn. In many cases, machine learning algorithms are used to recreate a human\n",
      "ability like adding a caption to a photo, driving a car, or playing a game.\n",
      "While the human brain has long served as a source of inspiration for machine\n",
      "learning, little effort has been made to directly use data collected from\n",
      "working brains as a guide for machine learning algorithms. Here we demonstrate\n",
      "a new paradigm of \"neurally-weighted\" machine learning, which takes fMRI\n",
      "measurements of human brain activity from subjects viewing images, and infuses\n",
      "these data into the training process of an object recognition learning\n",
      "algorithm to make it more consistent with the human brain. After training,\n",
      "these neurally-weighted classifiers are able to classify images without\n",
      "requiring any additional neural data. We show that our neural-weighting\n",
      "approach can lead to large performance gains when used with traditional machine\n",
      "vision features, as well as to significant improvements with already\n",
      "high-performing convolutional neural network features. The effectiveness of\n",
      "this approach points to a path forward for a new class of hybrid machine\n",
      "learning algorithms which take both inspiration and direct constraints from\n",
      "neuronal data. 0.5058179\n",
      "\n",
      "\n",
      "How Developers Iterate on Machine Learning Workflows -- A Survey of the\n",
      "  Applied Machine Learning Literature\n",
      "38 Machine learning workflow development is anecdotally regarded to be an\n",
      "iterative process of trial-and-error with humans-in-the-loop. However, we are\n",
      "not aware of quantitative evidence corroborating this popular belief. A\n",
      "quantitative characterization of iteration can serve as a benchmark for machine\n",
      "learning workflow development in practice, and can aid the development of\n",
      "human-in-the-loop machine learning systems. To this end, we conduct a\n",
      "small-scale survey of the applied machine learning literature from five\n",
      "distinct application domains. We collect and distill statistics on the role of\n",
      "iteration within machine learning workflow development, and report preliminary\n",
      "trends and insights from our investigation, as a starting point towards this\n",
      "benchmark. Based on our findings, we finally describe desiderata for effective\n",
      "and versatile human-in-the-loop machine learning systems that can cater to\n",
      "users in diverse domains. 0.49048483\n",
      "\n",
      "\n",
      "Fairness-aware machine learning: a perspective\n",
      "232 Algorithms learned from data are increasingly used for deciding many aspects\n",
      "in our life: from movies we see, to prices we pay, or medicine we get. Yet\n",
      "there is growing evidence that decision making by inappropriately trained\n",
      "algorithms may unintentionally discriminate people. For example, in automated\n",
      "matching of candidate CVs with job descriptions, algorithms may capture and\n",
      "propagate ethnicity related biases. Several repairs for selected algorithms\n",
      "have already been proposed, but the underlying mechanisms how such\n",
      "discrimination happens from the computational perspective are not yet\n",
      "scientifically understood. We need to develop theoretical understanding how\n",
      "algorithms may become discriminatory, and establish fundamental machine\n",
      "learning principles for prevention. We need to analyze machine learning process\n",
      "as a whole to systematically explain the roots of discrimination occurrence,\n",
      "which will allow to devise global machine learning optimization criteria for\n",
      "guaranteed prevention, as opposed to pushing empirical constraints into\n",
      "existing algorithms case-by-case. As a result, the state-of-the-art will\n",
      "advance from heuristic repairing, to proactive and theoretically supported\n",
      "prevention. This is needed not only because law requires to protect vulnerable\n",
      "people. Penetration of big data initiatives will only increase, and computer\n",
      "science needs to provide solid explanations and accountability to the public,\n",
      "before public concerns lead to unnecessarily restrictive regulations against\n",
      "machine learning. 0.48997682\n",
      "\n",
      "\n",
      "On Human Predictions with Explanations and Predictions of Machine\n",
      "  Learning Models: A Case Study on Deception Detection\n",
      "370 Humans are the final decision makers in critical tasks that involve ethical\n",
      "and legal concerns, ranging from recidivism prediction, to medical diagnosis,\n",
      "to fighting against fake news. Although machine learning models can sometimes\n",
      "achieve impressive performance in these tasks, these tasks are not amenable to\n",
      "full automation. To realize the potential of machine learning for improving\n",
      "human decisions, it is important to understand how assistance from machine\n",
      "learning models affects human performance and human agency.\n",
      "  In this paper, we use deception detection as a testbed and investigate how we\n",
      "can harness explanations and predictions of machine learning models to improve\n",
      "human performance while retaining human agency. We propose a spectrum between\n",
      "full human agency and full automation, and develop varying levels of machine\n",
      "assistance along the spectrum that gradually increase the influence of machine\n",
      "predictions. We find that without showing predicted labels, explanations alone\n",
      "slightly improve human performance in the end task. In comparison, human\n",
      "performance is greatly improved by showing predicted labels (>20% relative\n",
      "improvement) and can be further improved by explicitly suggesting strong\n",
      "machine performance. Interestingly, when predicted labels are shown,\n",
      "explanations of machine predictions induce a similar level of accuracy as an\n",
      "explicit statement of strong machine performance. Our results demonstrate a\n",
      "tradeoff between human performance and human agency and show that explanations\n",
      "of machine predictions can moderate this tradeoff. 0.48388204\n",
      "\n",
      "\n"
     ]
    }
   ],
   "source": [
    "for i in range(5):\n",
    "    ind, score = sims[i]\n",
    "    print(df.loc[ind, 'title'])\n",
    "    print(ind, df.loc[ind,'summary'], score)\n",
    "    print(\"\\n\")"
   ]
  },
  {
   "cell_type": "code",
   "execution_count": null,
   "metadata": {},
   "outputs": [],
   "source": []
  }
 ],
 "metadata": {
  "kernelspec": {
   "display_name": "Python 3",
   "language": "python",
   "name": "python3"
  },
  "language_info": {
   "codemirror_mode": {
    "name": "ipython",
    "version": 3
   },
   "file_extension": ".py",
   "mimetype": "text/x-python",
   "name": "python",
   "nbconvert_exporter": "python",
   "pygments_lexer": "ipython3",
   "version": "3.6.8"
  }
 },
 "nbformat": 4,
 "nbformat_minor": 2
}
